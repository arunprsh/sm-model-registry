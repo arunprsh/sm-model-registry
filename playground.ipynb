{
 "cells": [
  {
   "cell_type": "code",
   "execution_count": 1,
   "metadata": {},
   "outputs": [],
   "source": [
    "from utils import InferenceSpec\n",
    "import sagemaker\n",
    "import logging\n",
    "import boto3"
   ]
  },
  {
   "cell_type": "code",
   "execution_count": 2,
   "metadata": {},
   "outputs": [],
   "source": [
    "logger = logging.getLogger('__name__')\n",
    "logger.setLevel(logging.DEBUG)\n",
    "logger.addHandler(logging.StreamHandler())"
   ]
  },
  {
   "cell_type": "code",
   "execution_count": 3,
   "metadata": {},
   "outputs": [
    {
     "name": "stderr",
     "output_type": "stream",
     "text": [
      "Region = us-east-1\n"
     ]
    }
   ],
   "source": [
    "region = sagemaker.Session().boto_region_name\n",
    "boto3.setup_default_session(region_name=region)\n",
    "boto_session = boto3.Session(region_name=region)\n",
    "sagemaker_client = boto_session.client('sagemaker')\n",
    "logger.info(f'Region = {region}')"
   ]
  },
  {
   "cell_type": "markdown",
   "metadata": {},
   "source": [
    "#### List model package groups - search by string "
   ]
  },
  {
   "cell_type": "code",
   "execution_count": 4,
   "metadata": {},
   "outputs": [
    {
     "data": {
      "text/plain": [
       "[{'ModelPackageGroupName': 'fraud-detect-demo',\n",
       "  'ModelPackageGroupArn': 'arn:aws:sagemaker:us-east-1:892313895307:model-package-group/fraud-detect-demo',\n",
       "  'ModelPackageGroupDescription': 'Insurance claim fraud detection',\n",
       "  'CreationTime': datetime.datetime(2021, 7, 19, 22, 6, 8, 743000, tzinfo=tzlocal()),\n",
       "  'ModelPackageGroupStatus': 'Completed'}]"
      ]
     },
     "execution_count": 4,
     "metadata": {},
     "output_type": "execute_result"
    }
   ],
   "source": [
    "sagemaker_client.list_model_package_groups(NameContains='fraud')['ModelPackageGroupSummaryList']"
   ]
  },
  {
   "cell_type": "markdown",
   "metadata": {},
   "source": [
    "### Create a Model Package Group"
   ]
  },
  {
   "cell_type": "code",
   "execution_count": 5,
   "metadata": {},
   "outputs": [],
   "source": [
    "model_package_group_name = 'BERT-Email-Classifier'\n",
    "config = {'ModelPackageGroupName': model_package_group_name, \n",
    "          'ModelPackageGroupDescription': 'BERT-based multi-class classifier for email threat detection'\n",
    "         }"
   ]
  },
  {
   "cell_type": "code",
   "execution_count": 6,
   "metadata": {},
   "outputs": [
    {
     "data": {
      "text/plain": [
       "[{'ModelPackageGroupName': 'BERT-Email-Classifier',\n",
       "  'ModelPackageGroupArn': 'arn:aws:sagemaker:us-east-1:892313895307:model-package-group/bert-email-classifier',\n",
       "  'ModelPackageGroupDescription': 'BERT-based multi-class classifier for email threat detection',\n",
       "  'CreationTime': datetime.datetime(2021, 8, 4, 21, 5, 3, 705000, tzinfo=tzlocal()),\n",
       "  'ModelPackageGroupStatus': 'Completed'}]"
      ]
     },
     "execution_count": 6,
     "metadata": {},
     "output_type": "execute_result"
    }
   ],
   "source": [
    "sagemaker_client.list_model_package_groups(NameContains=model_package_group_name)['ModelPackageGroupSummaryList']"
   ]
  },
  {
   "cell_type": "code",
   "execution_count": 7,
   "metadata": {},
   "outputs": [
    {
     "name": "stderr",
     "output_type": "stream",
     "text": [
      "Model Package Group already exists!\n"
     ]
    }
   ],
   "source": [
    "if not sagemaker_client.list_model_package_groups(NameContains=model_package_group_name)['ModelPackageGroupSummaryList']:\n",
    "    response = sagemaker_client.create_model_package_group(**config)\n",
    "    logger.info(f'Model Package Group: {model_package_group_name} created!')\n",
    "    logger.info(f'Response: {response}')\n",
    "else:\n",
    "    logger.warning('Model Package Group already exists!')"
   ]
  },
  {
   "cell_type": "markdown",
   "metadata": {},
   "source": [
    "#### Delete a Model Package Group if needed"
   ]
  },
  {
   "cell_type": "code",
   "execution_count": null,
   "metadata": {},
   "outputs": [],
   "source": [
    "model_package_group_name = 'BERT-Email-Classifier'\n",
    "sagemaker_client.delete_model_package_group(ModelPackageGroupName=model_package_group_name)"
   ]
  },
  {
   "cell_type": "markdown",
   "metadata": {},
   "source": [
    "#### How do I register a trained BERT model to the model registry "
   ]
  },
  {
   "cell_type": "code",
   "execution_count": 33,
   "metadata": {},
   "outputs": [
    {
     "ename": "ValueError",
     "evalue": "Empty SageMaker instance type. For options, see: https://aws.amazon.com/sagemaker/pricing/instance-types",
     "output_type": "error",
     "traceback": [
      "\u001b[0;31m---------------------------------------------------------------------------\u001b[0m",
      "\u001b[0;31mValueError\u001b[0m                                Traceback (most recent call last)",
      "\u001b[0;32m<ipython-input-33-ba97d31f35e6>\u001b[0m in \u001b[0;36m<module>\u001b[0;34m\u001b[0m\n\u001b[1;32m      1\u001b[0m \u001b[0;32mfrom\u001b[0m \u001b[0msagemaker\u001b[0m \u001b[0;32mimport\u001b[0m \u001b[0mimage_uris\u001b[0m\u001b[0;34m\u001b[0m\u001b[0;34m\u001b[0m\u001b[0m\n\u001b[1;32m      2\u001b[0m ecr_image = image_uris.retrieve(framework='huggingface',region='us-east-1',version='4.6.1',image_scope='inference',\n\u001b[0;32m----> 3\u001b[0;31m                     base_framework_version='tensorflow2.4.1', py_version='py37', distribution='ubuntu18.04')\n\u001b[0m\u001b[1;32m      4\u001b[0m \u001b[0mecr_image\u001b[0m\u001b[0;34m\u001b[0m\u001b[0;34m\u001b[0m\u001b[0m\n",
      "\u001b[0;32m/opt/conda/lib/python3.7/site-packages/sagemaker/image_uris.py\u001b[0m in \u001b[0;36mretrieve\u001b[0;34m(framework, region, version, py_version, instance_type, accelerator_type, image_scope, container_version, distribution, base_framework_version)\u001b[0m\n\u001b[1;32m     89\u001b[0m \u001b[0;34m\u001b[0m\u001b[0m\n\u001b[1;32m     90\u001b[0m     processor = _processor(\n\u001b[0;32m---> 91\u001b[0;31m         \u001b[0minstance_type\u001b[0m\u001b[0;34m,\u001b[0m \u001b[0mconfig\u001b[0m\u001b[0;34m.\u001b[0m\u001b[0mget\u001b[0m\u001b[0;34m(\u001b[0m\u001b[0;34m\"processors\"\u001b[0m\u001b[0;34m)\u001b[0m \u001b[0;32mor\u001b[0m \u001b[0mversion_config\u001b[0m\u001b[0;34m.\u001b[0m\u001b[0mget\u001b[0m\u001b[0;34m(\u001b[0m\u001b[0;34m\"processors\"\u001b[0m\u001b[0;34m)\u001b[0m\u001b[0;34m\u001b[0m\u001b[0;34m\u001b[0m\u001b[0m\n\u001b[0m\u001b[1;32m     92\u001b[0m     )\n\u001b[1;32m     93\u001b[0m \u001b[0;34m\u001b[0m\u001b[0m\n",
      "\u001b[0;32m/opt/conda/lib/python3.7/site-packages/sagemaker/image_uris.py\u001b[0m in \u001b[0;36m_processor\u001b[0;34m(instance_type, available_processors)\u001b[0m\n\u001b[1;32m    229\u001b[0m     \u001b[0;32mif\u001b[0m \u001b[0;32mnot\u001b[0m \u001b[0minstance_type\u001b[0m\u001b[0;34m:\u001b[0m\u001b[0;34m\u001b[0m\u001b[0;34m\u001b[0m\u001b[0m\n\u001b[1;32m    230\u001b[0m         raise ValueError(\n\u001b[0;32m--> 231\u001b[0;31m             \u001b[0;34m\"Empty SageMaker instance type. For options, see: \"\u001b[0m\u001b[0;34m\u001b[0m\u001b[0;34m\u001b[0m\u001b[0m\n\u001b[0m\u001b[1;32m    232\u001b[0m             \u001b[0;34m\"https://aws.amazon.com/sagemaker/pricing/instance-types\"\u001b[0m\u001b[0;34m\u001b[0m\u001b[0;34m\u001b[0m\u001b[0m\n\u001b[1;32m    233\u001b[0m         )\n",
      "\u001b[0;31mValueError\u001b[0m: Empty SageMaker instance type. For options, see: https://aws.amazon.com/sagemaker/pricing/instance-types"
     ]
    }
   ],
   "source": [
    "from sagemaker import image_uris\n",
    "ecr_image = image_uris.retrieve(framework='huggingface',region='us-east-1',version='4.6.1',image_scope='inference',\n",
    "                    base_framework_version='tensorflow2.4.1', py_version='py37', distribution='ubuntu18.04')\n",
    "ecr_image"
   ]
  },
  {
   "cell_type": "code",
   "execution_count": null,
   "metadata": {},
   "outputs": [],
   "source": [
    "763104351884.dkr.ecr.us-east-1.amazonaws.com/huggingface-tensorflow-inference:2.4.1-transformers4.6.1-cpu-py37-ubuntu18.04"
   ]
  },
  {
   "cell_type": "code",
   "execution_count": null,
   "metadata": {},
   "outputs": [],
   "source": []
  },
  {
   "cell_type": "markdown",
   "metadata": {},
   "source": [
    "1. Define the inference spec "
   ]
  },
  {
   "cell_type": "code",
   "execution_count": 27,
   "metadata": {},
   "outputs": [
    {
     "data": {
      "text/plain": [
       "{'InferenceSpecification': {'Containers': [{'Image': '763104351884.dkr.ecr.us-east-1.amazonaws.com/huggingface-tensorflow-inference:2.4-transformers4.6-cpu-py37'}],\n",
       "  'SupportedTransformInstanceTypes': ['ml.m4.xlarge',\n",
       "   'ml.m4.2xlarge',\n",
       "   'ml.m4.4xlarge',\n",
       "   'ml.m4.10xlarge',\n",
       "   'ml.m4.16xlarge',\n",
       "   'ml.m5.large',\n",
       "   'ml.m5.xlarge',\n",
       "   'ml.m5.2xlarge',\n",
       "   'ml.m5.4xlarge',\n",
       "   'ml.m5.12xlarge',\n",
       "   'ml.m5.24xlarge',\n",
       "   'ml.c4.xlarge',\n",
       "   'ml.c4.2xlarge',\n",
       "   'ml.c4.4xlarge',\n",
       "   'ml.c4.8xlarge',\n",
       "   'ml.c5.xlarge',\n",
       "   'ml.c5.2xlarge',\n",
       "   'ml.c5.4xlarge',\n",
       "   'ml.c5.9xlarge',\n",
       "   'ml.c5.18xlarge',\n",
       "   'ml.p2.xlarge',\n",
       "   'ml.p2.8xlarge',\n",
       "   'ml.p2.16xlarge',\n",
       "   'ml.p3.2xlarge',\n",
       "   'ml.p3.8xlarge',\n",
       "   'ml.p3.16xlarge'],\n",
       "  'SupportedRealtimeInferenceInstanceTypes': ['ml.m4.xlarge',\n",
       "   'ml.m4.2xlarge',\n",
       "   'ml.m4.4xlarge',\n",
       "   'ml.m4.10xlarge',\n",
       "   'ml.m4.16xlarge',\n",
       "   'ml.m5.large',\n",
       "   'ml.m5.xlarge',\n",
       "   'ml.m5.2xlarge',\n",
       "   'ml.m5.4xlarge',\n",
       "   'ml.m5.12xlarge',\n",
       "   'ml.m5.24xlarge',\n",
       "   'ml.c4.xlarge',\n",
       "   'ml.c4.2xlarge',\n",
       "   'ml.c4.4xlarge',\n",
       "   'ml.c4.8xlarge',\n",
       "   'ml.c5.xlarge',\n",
       "   'ml.c5.2xlarge',\n",
       "   'ml.c5.4xlarge',\n",
       "   'ml.c5.9xlarge',\n",
       "   'ml.c5.18xlarge',\n",
       "   'ml.p2.xlarge',\n",
       "   'ml.p2.8xlarge',\n",
       "   'ml.p2.16xlarge',\n",
       "   'ml.p3.2xlarge',\n",
       "   'ml.p3.8xlarge',\n",
       "   'ml.p3.16xlarge'],\n",
       "  'SupportedContentTypes': ['text/csv'],\n",
       "  'SupportedResponseMIMETypes': ['text/csv']}}"
      ]
     },
     "execution_count": 27,
     "metadata": {},
     "output_type": "execute_result"
    }
   ],
   "source": [
    "#ecr_image = '763104351884.dkr.ecr.us-west-2.amazonaws.com/huggingface-tensorflow-training:2.4.1-transformers4.6.1-gpu-py37-cu110-ubuntu18.04'\n",
    "inference_spec = InferenceSpec().get_dict(ecr_image=ecr_image, \n",
    "                                                    supports_gpu=True,  \n",
    "                                                    supported_content_types=['text/csv'], \n",
    "                                                    supported_mime_types=['text/csv'])\n",
    "inference_spec"
   ]
  },
  {
   "cell_type": "markdown",
   "metadata": {},
   "source": [
    "2. Define model metrics "
   ]
  },
  {
   "cell_type": "code",
   "execution_count": 28,
   "metadata": {},
   "outputs": [],
   "source": [
    "model_metrics = {\n",
    "    \"ModelQuality\": {\n",
    "        \"Statistics\": {\n",
    "            \"ContentType\": \"application/json\",\n",
    "            \"S3Uri\": f\"s3://foobar/metrics.json\",\n",
    "        }\n",
    "    },\n",
    "    \"Bias\": {\n",
    "        \"Report\": {\n",
    "            \"ContentType\": \"application/json\",\n",
    "            \"S3Uri\": f\"s3://foobar/analysis.json\",\n",
    "        }\n",
    "    },\n",
    "}"
   ]
  },
  {
   "cell_type": "code",
   "execution_count": 29,
   "metadata": {},
   "outputs": [
    {
     "data": {
      "text/plain": [
       "{'ModelPackageGroupName': 'BERT-Email-Classifier',\n",
       " 'ModelPackageDescription': 'BERT classifier',\n",
       " 'ModelApprovalStatus': 'PendingManualApproval',\n",
       " 'ModelMetrics': {'ModelQuality': {'Statistics': {'ContentType': 'application/json',\n",
       "    'S3Uri': 's3://foobar/metrics.json'}},\n",
       "  'Bias': {'Report': {'ContentType': 'application/json',\n",
       "    'S3Uri': 's3://foobar/analysis.json'}}},\n",
       " 'InferenceSpecification': {'Containers': [{'Image': '763104351884.dkr.ecr.us-east-1.amazonaws.com/huggingface-tensorflow-inference:2.4-transformers4.6-cpu-py37'}],\n",
       "  'SupportedTransformInstanceTypes': ['ml.m4.xlarge',\n",
       "   'ml.m4.2xlarge',\n",
       "   'ml.m4.4xlarge',\n",
       "   'ml.m4.10xlarge',\n",
       "   'ml.m4.16xlarge',\n",
       "   'ml.m5.large',\n",
       "   'ml.m5.xlarge',\n",
       "   'ml.m5.2xlarge',\n",
       "   'ml.m5.4xlarge',\n",
       "   'ml.m5.12xlarge',\n",
       "   'ml.m5.24xlarge',\n",
       "   'ml.c4.xlarge',\n",
       "   'ml.c4.2xlarge',\n",
       "   'ml.c4.4xlarge',\n",
       "   'ml.c4.8xlarge',\n",
       "   'ml.c5.xlarge',\n",
       "   'ml.c5.2xlarge',\n",
       "   'ml.c5.4xlarge',\n",
       "   'ml.c5.9xlarge',\n",
       "   'ml.c5.18xlarge',\n",
       "   'ml.p2.xlarge',\n",
       "   'ml.p2.8xlarge',\n",
       "   'ml.p2.16xlarge',\n",
       "   'ml.p3.2xlarge',\n",
       "   'ml.p3.8xlarge',\n",
       "   'ml.p3.16xlarge'],\n",
       "  'SupportedRealtimeInferenceInstanceTypes': ['ml.m4.xlarge',\n",
       "   'ml.m4.2xlarge',\n",
       "   'ml.m4.4xlarge',\n",
       "   'ml.m4.10xlarge',\n",
       "   'ml.m4.16xlarge',\n",
       "   'ml.m5.large',\n",
       "   'ml.m5.xlarge',\n",
       "   'ml.m5.2xlarge',\n",
       "   'ml.m5.4xlarge',\n",
       "   'ml.m5.12xlarge',\n",
       "   'ml.m5.24xlarge',\n",
       "   'ml.c4.xlarge',\n",
       "   'ml.c4.2xlarge',\n",
       "   'ml.c4.4xlarge',\n",
       "   'ml.c4.8xlarge',\n",
       "   'ml.c5.xlarge',\n",
       "   'ml.c5.2xlarge',\n",
       "   'ml.c5.4xlarge',\n",
       "   'ml.c5.9xlarge',\n",
       "   'ml.c5.18xlarge',\n",
       "   'ml.p2.xlarge',\n",
       "   'ml.p2.8xlarge',\n",
       "   'ml.p2.16xlarge',\n",
       "   'ml.p3.2xlarge',\n",
       "   'ml.p3.8xlarge',\n",
       "   'ml.p3.16xlarge'],\n",
       "  'SupportedContentTypes': ['text/csv'],\n",
       "  'SupportedResponseMIMETypes': ['text/csv']}}"
      ]
     },
     "execution_count": 29,
     "metadata": {},
     "output_type": "execute_result"
    }
   ],
   "source": [
    "model_package_input_dict = {\"ModelPackageGroupName\": model_package_group_name, \n",
    "                            \"ModelPackageDescription\": \"BERT classifier\", \n",
    "                            \"ModelApprovalStatus\": \"PendingManualApproval\", \n",
    "                            \"ModelMetrics\": model_metrics}\n",
    "\n",
    "model_package_input_dict.update(inference_spec)\n",
    "model_package_input_dict"
   ]
  },
  {
   "cell_type": "code",
   "execution_count": 30,
   "metadata": {},
   "outputs": [
    {
     "ename": "ClientError",
     "evalue": "An error occurred (ValidationException) when calling the CreateModelPackage operation: Cannot find the requested image: 763104351884.dkr.ecr.us-east-1.amazonaws.com/huggingface-tensorflow-inference:2.4-transformers4.6-cpu-py37 with tag: 2.4-transformers4.6-cpu-py37 and digest: null. Please check if your ECR image exists and has proper pull permissions for SageMaker.",
     "output_type": "error",
     "traceback": [
      "\u001b[0;31m---------------------------------------------------------------------------\u001b[0m",
      "\u001b[0;31mClientError\u001b[0m                               Traceback (most recent call last)",
      "\u001b[0;32m<ipython-input-30-9cf8a1690ce6>\u001b[0m in \u001b[0;36m<module>\u001b[0;34m\u001b[0m\n\u001b[0;32m----> 1\u001b[0;31m \u001b[0mresponse\u001b[0m \u001b[0;34m=\u001b[0m \u001b[0msagemaker_client\u001b[0m\u001b[0;34m.\u001b[0m\u001b[0mcreate_model_package\u001b[0m\u001b[0;34m(\u001b[0m\u001b[0;34m**\u001b[0m\u001b[0mmodel_package_input_dict\u001b[0m\u001b[0;34m)\u001b[0m\u001b[0;34m\u001b[0m\u001b[0;34m\u001b[0m\u001b[0m\n\u001b[0m\u001b[1;32m      2\u001b[0m \u001b[0mresponse\u001b[0m\u001b[0;34m\u001b[0m\u001b[0;34m\u001b[0m\u001b[0m\n",
      "\u001b[0;32m/opt/conda/lib/python3.7/site-packages/botocore/client.py\u001b[0m in \u001b[0;36m_api_call\u001b[0;34m(self, *args, **kwargs)\u001b[0m\n\u001b[1;32m    384\u001b[0m                     \"%s() only accepts keyword arguments.\" % py_operation_name)\n\u001b[1;32m    385\u001b[0m             \u001b[0;31m# The \"self\" in this scope is referring to the BaseClient.\u001b[0m\u001b[0;34m\u001b[0m\u001b[0;34m\u001b[0m\u001b[0;34m\u001b[0m\u001b[0m\n\u001b[0;32m--> 386\u001b[0;31m             \u001b[0;32mreturn\u001b[0m \u001b[0mself\u001b[0m\u001b[0;34m.\u001b[0m\u001b[0m_make_api_call\u001b[0m\u001b[0;34m(\u001b[0m\u001b[0moperation_name\u001b[0m\u001b[0;34m,\u001b[0m \u001b[0mkwargs\u001b[0m\u001b[0;34m)\u001b[0m\u001b[0;34m\u001b[0m\u001b[0;34m\u001b[0m\u001b[0m\n\u001b[0m\u001b[1;32m    387\u001b[0m \u001b[0;34m\u001b[0m\u001b[0m\n\u001b[1;32m    388\u001b[0m         \u001b[0m_api_call\u001b[0m\u001b[0;34m.\u001b[0m\u001b[0m__name__\u001b[0m \u001b[0;34m=\u001b[0m \u001b[0mstr\u001b[0m\u001b[0;34m(\u001b[0m\u001b[0mpy_operation_name\u001b[0m\u001b[0;34m)\u001b[0m\u001b[0;34m\u001b[0m\u001b[0;34m\u001b[0m\u001b[0m\n",
      "\u001b[0;32m/opt/conda/lib/python3.7/site-packages/botocore/client.py\u001b[0m in \u001b[0;36m_make_api_call\u001b[0;34m(self, operation_name, api_params)\u001b[0m\n\u001b[1;32m    703\u001b[0m             \u001b[0merror_code\u001b[0m \u001b[0;34m=\u001b[0m \u001b[0mparsed_response\u001b[0m\u001b[0;34m.\u001b[0m\u001b[0mget\u001b[0m\u001b[0;34m(\u001b[0m\u001b[0;34m\"Error\"\u001b[0m\u001b[0;34m,\u001b[0m \u001b[0;34m{\u001b[0m\u001b[0;34m}\u001b[0m\u001b[0;34m)\u001b[0m\u001b[0;34m.\u001b[0m\u001b[0mget\u001b[0m\u001b[0;34m(\u001b[0m\u001b[0;34m\"Code\"\u001b[0m\u001b[0;34m)\u001b[0m\u001b[0;34m\u001b[0m\u001b[0;34m\u001b[0m\u001b[0m\n\u001b[1;32m    704\u001b[0m             \u001b[0merror_class\u001b[0m \u001b[0;34m=\u001b[0m \u001b[0mself\u001b[0m\u001b[0;34m.\u001b[0m\u001b[0mexceptions\u001b[0m\u001b[0;34m.\u001b[0m\u001b[0mfrom_code\u001b[0m\u001b[0;34m(\u001b[0m\u001b[0merror_code\u001b[0m\u001b[0;34m)\u001b[0m\u001b[0;34m\u001b[0m\u001b[0;34m\u001b[0m\u001b[0m\n\u001b[0;32m--> 705\u001b[0;31m             \u001b[0;32mraise\u001b[0m \u001b[0merror_class\u001b[0m\u001b[0;34m(\u001b[0m\u001b[0mparsed_response\u001b[0m\u001b[0;34m,\u001b[0m \u001b[0moperation_name\u001b[0m\u001b[0;34m)\u001b[0m\u001b[0;34m\u001b[0m\u001b[0;34m\u001b[0m\u001b[0m\n\u001b[0m\u001b[1;32m    706\u001b[0m         \u001b[0;32melse\u001b[0m\u001b[0;34m:\u001b[0m\u001b[0;34m\u001b[0m\u001b[0;34m\u001b[0m\u001b[0m\n\u001b[1;32m    707\u001b[0m             \u001b[0;32mreturn\u001b[0m \u001b[0mparsed_response\u001b[0m\u001b[0;34m\u001b[0m\u001b[0;34m\u001b[0m\u001b[0m\n",
      "\u001b[0;31mClientError\u001b[0m: An error occurred (ValidationException) when calling the CreateModelPackage operation: Cannot find the requested image: 763104351884.dkr.ecr.us-east-1.amazonaws.com/huggingface-tensorflow-inference:2.4-transformers4.6-cpu-py37 with tag: 2.4-transformers4.6-cpu-py37 and digest: null. Please check if your ECR image exists and has proper pull permissions for SageMaker."
     ]
    }
   ],
   "source": [
    "response = sagemaker_client.create_model_package(**model_package_input_dict)\n",
    "response"
   ]
  },
  {
   "cell_type": "code",
   "execution_count": null,
   "metadata": {},
   "outputs": [],
   "source": []
  },
  {
   "cell_type": "code",
   "execution_count": null,
   "metadata": {},
   "outputs": [],
   "source": [
    "\n"
   ]
  },
  {
   "cell_type": "markdown",
   "metadata": {},
   "source": [
    "#### How do I recreate the BERT model from the model registry and use it to create a real-time inference endpoint"
   ]
  },
  {
   "cell_type": "code",
   "execution_count": null,
   "metadata": {},
   "outputs": [],
   "source": []
  },
  {
   "cell_type": "markdown",
   "metadata": {},
   "source": [
    "#### How do I create an endpoint using model artifacts in S3 "
   ]
  },
  {
   "cell_type": "code",
   "execution_count": null,
   "metadata": {},
   "outputs": [],
   "source": []
  },
  {
   "cell_type": "markdown",
   "metadata": {},
   "source": [
    "#### How do I create an endpoint via Model Registry"
   ]
  },
  {
   "cell_type": "code",
   "execution_count": null,
   "metadata": {},
   "outputs": [],
   "source": []
  },
  {
   "cell_type": "code",
   "execution_count": null,
   "metadata": {},
   "outputs": [],
   "source": []
  },
  {
   "cell_type": "code",
   "execution_count": null,
   "metadata": {},
   "outputs": [],
   "source": []
  },
  {
   "cell_type": "code",
   "execution_count": null,
   "metadata": {},
   "outputs": [],
   "source": []
  }
 ],
 "metadata": {
  "instance_type": "ml.t3.medium",
  "kernelspec": {
   "display_name": "Python 3 (Data Science)",
   "language": "python",
   "name": "python3__SAGEMAKER_INTERNAL__arn:aws:sagemaker:us-east-1:081325390199:image/datascience-1.0"
  },
  "language_info": {
   "codemirror_mode": {
    "name": "ipython",
    "version": 3
   },
   "file_extension": ".py",
   "mimetype": "text/x-python",
   "name": "python",
   "nbconvert_exporter": "python",
   "pygments_lexer": "ipython3",
   "version": "3.7.10"
  }
 },
 "nbformat": 4,
 "nbformat_minor": 4
}
