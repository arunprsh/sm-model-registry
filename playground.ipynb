{
 "cells": [
  {
   "cell_type": "markdown",
   "metadata": {},
   "source": [
    "#### Imports "
   ]
  },
  {
   "cell_type": "code",
   "execution_count": null,
   "metadata": {},
   "outputs": [],
   "source": [
    "from time import gmtime, strftime\n",
    "from sagemaker import image_uris\n",
    "from utils import InferenceSpec\n",
    "import sagemaker\n",
    "import logging\n",
    "import boto3\n",
    "import json"
   ]
  },
  {
   "cell_type": "markdown",
   "metadata": {},
   "source": [
    "#### Setup"
   ]
  },
  {
   "cell_type": "code",
   "execution_count": null,
   "metadata": {},
   "outputs": [],
   "source": [
    "logger = logging.getLogger('__name__')\n",
    "logger.setLevel(logging.DEBUG)\n",
    "logger.addHandler(logging.StreamHandler())"
   ]
  },
  {
   "cell_type": "code",
   "execution_count": null,
   "metadata": {},
   "outputs": [],
   "source": [
    "region = sagemaker.Session().boto_region_name\n",
    "boto3.setup_default_session(region_name=region)\n",
    "boto_session = boto3.Session(region_name=region)\n",
    "sagemaker_client = boto_session.client('sagemaker')\n",
    "logger.info(f'Region = {region}')"
   ]
  },
  {
   "cell_type": "markdown",
   "metadata": {},
   "source": [
    "### List all Model Package Groups in SageMaker Model Registry"
   ]
  },
  {
   "cell_type": "code",
   "execution_count": null,
   "metadata": {},
   "outputs": [],
   "source": [
    "sagemaker_client.list_model_package_groups()['ModelPackageGroupSummaryList']"
   ]
  },
  {
   "cell_type": "markdown",
   "metadata": {},
   "source": [
    "### Create a Model Package Group"
   ]
  },
  {
   "cell_type": "code",
   "execution_count": null,
   "metadata": {},
   "outputs": [],
   "source": [
    "model_package_group_name = 'bert-email-classifier'\n",
    "config = {'ModelPackageGroupName': model_package_group_name, \n",
    "          'ModelPackageGroupDescription': 'BERT-based multi-class classifier for email threat detection'\n",
    "         }"
   ]
  },
  {
   "cell_type": "code",
   "execution_count": null,
   "metadata": {},
   "outputs": [],
   "source": [
    "sagemaker_client.list_model_package_groups(NameContains=model_package_group_name)['ModelPackageGroupSummaryList']"
   ]
  },
  {
   "cell_type": "code",
   "execution_count": null,
   "metadata": {},
   "outputs": [],
   "source": [
    "if not sagemaker_client.list_model_package_groups(NameContains=model_package_group_name)['ModelPackageGroupSummaryList']:\n",
    "    response = sagemaker_client.create_model_package_group(**config)\n",
    "    logger.info(f'Model Package Group: {model_package_group_name} created!')\n",
    "    logger.info(f'Response: {response}')\n",
    "else:\n",
    "    logger.warning('Model Package Group already exists!')"
   ]
  },
  {
   "cell_type": "markdown",
   "metadata": {},
   "source": [
    "### List Model Packages \n",
    "https://boto3.amazonaws.com/v1/documentation/api/latest/reference/services/sagemaker.html#SageMaker.Client.list_model_packages"
   ]
  },
  {
   "cell_type": "code",
   "execution_count": null,
   "metadata": {},
   "outputs": [],
   "source": [
    "response = sagemaker_client.list_model_packages(ModelPackageGroupName=model_package_group_name)\n",
    "response"
   ]
  },
  {
   "cell_type": "markdown",
   "metadata": {},
   "source": [
    "### Describe a Model Package Group"
   ]
  },
  {
   "cell_type": "code",
   "execution_count": null,
   "metadata": {},
   "outputs": [],
   "source": [
    "sagemaker_client.describe_model_package_group(ModelPackageGroupName=model_package_group_name)"
   ]
  },
  {
   "cell_type": "markdown",
   "metadata": {},
   "source": [
    "### How do I register a trained BERT model to the model registry "
   ]
  },
  {
   "cell_type": "code",
   "execution_count": null,
   "metadata": {},
   "outputs": [],
   "source": [
    "ecr_image = image_uris.retrieve(framework='huggingface', \n",
    "                                region='us-east-1', \n",
    "                                version='4.6.1', \n",
    "                                image_scope='inference', \n",
    "                                base_framework_version='tensorflow2.4.1', \n",
    "                                py_version='py37', \n",
    "                                container_version='ubuntu18.04', \n",
    "                                instance_type='ml.m5.4xlarge')\n",
    "ecr_image"
   ]
  },
  {
   "cell_type": "markdown",
   "metadata": {},
   "source": [
    "1. Define the inference spec "
   ]
  },
  {
   "cell_type": "code",
   "execution_count": null,
   "metadata": {},
   "outputs": [],
   "source": [
    "# ecr_image = '763104351884.dkr.ecr.us-west-2.amazonaws.com/huggingface-tensorflow-training:2.4.1-transformers4.6.1-gpu-py37-cu110-ubuntu18.04'\n",
    "inference_spec = InferenceSpec().get_dict(ecr_image=ecr_image, \n",
    "                                          supports_gpu=True, \n",
    "                                          supported_content_types=['text/csv'], \n",
    "                                          supported_mime_types=['text/csv'])"
   ]
  },
  {
   "cell_type": "code",
   "execution_count": null,
   "metadata": {},
   "outputs": [],
   "source": [
    "inference_spec[\"InferenceSpecification\"][\"Containers\"][0][\"ModelDataUrl\"] = 's3://sagemaker-us-east-1-892313895307/pipeline/model/model.tar.gz'\n",
    "inference_spec"
   ]
  },
  {
   "cell_type": "markdown",
   "metadata": {},
   "source": [
    "**Note:** The ModelDataUrl can also be obtained from a previously run training job."
   ]
  },
  {
   "cell_type": "markdown",
   "metadata": {},
   "source": [
    "2. Define/load model metrics "
   ]
  },
  {
   "cell_type": "code",
   "execution_count": null,
   "metadata": {},
   "outputs": [],
   "source": [
    "with open('./metrics.json', 'rb') as f:\n",
    "    model_metrics = json.load(f)"
   ]
  },
  {
   "cell_type": "code",
   "execution_count": null,
   "metadata": {},
   "outputs": [],
   "source": [
    "model_metrics"
   ]
  },
  {
   "cell_type": "code",
   "execution_count": null,
   "metadata": {},
   "outputs": [],
   "source": [
    "current_timestamp = strftime('%m-%d-%H-%M', gmtime())"
   ]
  },
  {
   "cell_type": "markdown",
   "metadata": {},
   "source": [
    "Let's push this metrics file to S3"
   ]
  },
  {
   "cell_type": "code",
   "execution_count": null,
   "metadata": {},
   "outputs": [],
   "source": [
    "!aws s3 cp metrics.json s3://sagemaker-us-east-1-892313895307/metrics/{current_timestamp}/metrics.json"
   ]
  },
  {
   "cell_type": "code",
   "execution_count": null,
   "metadata": {},
   "outputs": [],
   "source": [
    "model_metrics = {\n",
    "    \"ModelQuality\": {\n",
    "        \"Statistics\": {\n",
    "            \"ContentType\": \"application/json\",\n",
    "            \"S3Uri\": f\"s3://sagemaker-us-east-1-892313895307/metrics/{current_timestamp}/metrics.json\",\n",
    "        }\n",
    "    }\n",
    "}"
   ]
  },
  {
   "cell_type": "markdown",
   "metadata": {},
   "source": [
    "3. Create model package config (dictionary)"
   ]
  },
  {
   "cell_type": "code",
   "execution_count": null,
   "metadata": {},
   "outputs": [],
   "source": [
    "model_package_input_dict = {\"ModelPackageGroupName\": model_package_group_name,\n",
    "                            \"ModelPackageDescription\": \"BERT classifier\", \n",
    "                            \"ModelApprovalStatus\": \"PendingManualApproval\", \n",
    "                            \"ModelMetrics\": model_metrics}\n",
    "\n",
    "model_package_input_dict.update(inference_spec)\n",
    "model_package_input_dict"
   ]
  },
  {
   "cell_type": "code",
   "execution_count": null,
   "metadata": {},
   "outputs": [],
   "source": [
    "meta = {'MetadataProperties': {'GeneratedBy': 'NLP-Pipeline'}}\n",
    "model_package_input_dict.update(meta)"
   ]
  },
  {
   "cell_type": "code",
   "execution_count": null,
   "metadata": {},
   "outputs": [],
   "source": [
    "model_package_input_dict"
   ]
  },
  {
   "cell_type": "markdown",
   "metadata": {},
   "source": [
    "4. Create the Model Package "
   ]
  },
  {
   "cell_type": "code",
   "execution_count": null,
   "metadata": {},
   "outputs": [],
   "source": [
    "response = sagemaker_client.create_model_package(**model_package_input_dict)\n",
    "response"
   ]
  },
  {
   "cell_type": "code",
   "execution_count": null,
   "metadata": {},
   "outputs": [],
   "source": [
    "arn = response[\"ModelPackageArn\"]\n",
    "model_package_info = sagemaker_client.describe_model_package(ModelPackageName=arn)\n",
    "model_package_info"
   ]
  },
  {
   "cell_type": "code",
   "execution_count": null,
   "metadata": {},
   "outputs": [],
   "source": [
    "status = model_package_info[\"ModelPackageStatus\"]\n",
    "\n",
    "while status not in [\"Completed\", \"Failed\"]:\n",
    "    time.sleep(5)\n",
    "    info = sagemaker_client.describe_model_package(ModelPackageName=arn)\n",
    "    status = info[\"ModelPackageStatus\"]\n",
    "    logger.info(f\"model package status: {status}\")\n",
    "logger.info(f\"model package status: {status}\")"
   ]
  },
  {
   "cell_type": "markdown",
   "metadata": {},
   "source": [
    "### Describe a Model Package "
   ]
  },
  {
   "cell_type": "code",
   "execution_count": null,
   "metadata": {},
   "outputs": [],
   "source": [
    "arn = model_package_info['ModelPackageArn']\n",
    "sagemaker_client.describe_model_package(ModelPackageName=arn)"
   ]
  },
  {
   "cell_type": "markdown",
   "metadata": {},
   "source": [
    "### Update status of a Model Package "
   ]
  },
  {
   "cell_type": "code",
   "execution_count": null,
   "metadata": {},
   "outputs": [],
   "source": [
    "model_package_arn = 'arn:aws:sagemaker:us-east-1:892313895307:model-package/bert-email-classifier/1'"
   ]
  },
  {
   "cell_type": "code",
   "execution_count": null,
   "metadata": {},
   "outputs": [],
   "source": [
    "model_package_update_input_dict = {\"ModelPackageArn\" : model_package_arn, \n",
    "                                   \"ModelApprovalStatus\" : \"Approved\"}\n",
    "model_package_update_response = sagemaker_client.update_model_package(**model_package_update_input_dict)\n",
    "model_package_update_response"
   ]
  },
  {
   "cell_type": "markdown",
   "metadata": {},
   "source": [
    "### Delete all Model Packages in a Model Package Group"
   ]
  },
  {
   "cell_type": "markdown",
   "metadata": {},
   "source": [
    "List all standalone model packages (ones that are not affiliated to any Model Package Group)."
   ]
  },
  {
   "cell_type": "code",
   "execution_count": null,
   "metadata": {},
   "outputs": [],
   "source": [
    "response = sagemaker_client.list_model_packages()\n",
    "response"
   ]
  },
  {
   "cell_type": "markdown",
   "metadata": {},
   "source": [
    "Delete all standalone model packages "
   ]
  },
  {
   "cell_type": "code",
   "execution_count": null,
   "metadata": {},
   "outputs": [],
   "source": [
    "for model_package in response['ModelPackageSummaryList']:\n",
    "    logger.info(f'Model Pacakge: {model_package}')\n",
    "    # package_name = model_package['ModelPackageName']\n",
    "    package_arn = model_package['ModelPackageArn']\n",
    "    response = sagemaker_client.delete_model_package(ModelPackageName=package_arn)\n",
    "    logger.info(f'Response: {response}')"
   ]
  },
  {
   "cell_type": "markdown",
   "metadata": {},
   "source": [
    "List model packages that are affiliated to our Model Package Group"
   ]
  },
  {
   "cell_type": "code",
   "execution_count": null,
   "metadata": {},
   "outputs": [],
   "source": [
    "response = sagemaker_client.list_model_packages(ModelPackageGroupName=model_package_group_name)\n",
    "response"
   ]
  },
  {
   "cell_type": "code",
   "execution_count": null,
   "metadata": {},
   "outputs": [],
   "source": [
    "for model_package in response['ModelPackageSummaryList']:\n",
    "    logger.info(f'Model Package: {model_package}')\n",
    "    # package_name = model_package['ModelPackageName']\n",
    "    package_arn = model_package['ModelPackageArn']\n",
    "    response = sagemaker_client.delete_model_package(ModelPackageName=package_arn)\n",
    "    logger.info(f'Response: {response}')"
   ]
  },
  {
   "cell_type": "markdown",
   "metadata": {},
   "source": [
    "### Delete a Model Package Group if needed\n",
    "\n",
    "**Note:** We need to delete all Model Packages inside the Model Package Group first to delete the package group."
   ]
  },
  {
   "cell_type": "code",
   "execution_count": null,
   "metadata": {},
   "outputs": [],
   "source": [
    "sagemaker_client.delete_model_package_group(ModelPackageGroupName=model_package_group_name)"
   ]
  },
  {
   "cell_type": "markdown",
   "metadata": {},
   "source": [
    "### Recreate the BERT model from model registry and use it to create a real-time inference endpoint"
   ]
  },
  {
   "cell_type": "markdown",
   "metadata": {},
   "source": [
    "### How do I create an endpoint using model artifacts in S3 "
   ]
  }
 ],
 "metadata": {
  "instance_type": "ml.t3.medium",
  "kernelspec": {
   "display_name": "Python 3 (Data Science)",
   "language": "python",
   "name": "python3__SAGEMAKER_INTERNAL__arn:aws:sagemaker:us-east-1:081325390199:image/datascience-1.0"
  },
  "language_info": {
   "codemirror_mode": {
    "name": "ipython",
    "version": 3
   },
   "file_extension": ".py",
   "mimetype": "text/x-python",
   "name": "python",
   "nbconvert_exporter": "python",
   "pygments_lexer": "ipython3",
   "version": "3.7.10"
  }
 },
 "nbformat": 4,
 "nbformat_minor": 4
}
