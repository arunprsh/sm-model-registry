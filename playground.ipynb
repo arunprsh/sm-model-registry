{
 "cells": [
  {
   "cell_type": "markdown",
   "metadata": {},
   "source": [
    "#### Imports "
   ]
  },
  {
   "cell_type": "code",
   "execution_count": 28,
   "metadata": {},
   "outputs": [],
   "source": [
    "from time import gmtime, strftime\n",
    "from sagemaker import image_uris\n",
    "from utils import InferenceSpec\n",
    "import sagemaker\n",
    "import logging\n",
    "import boto3\n",
    "import json"
   ]
  },
  {
   "cell_type": "markdown",
   "metadata": {},
   "source": [
    "#### Setup"
   ]
  },
  {
   "cell_type": "code",
   "execution_count": 29,
   "metadata": {},
   "outputs": [],
   "source": [
    "logger = logging.getLogger('__name__')\n",
    "logger.setLevel(logging.DEBUG)\n",
    "logger.addHandler(logging.StreamHandler())"
   ]
  },
  {
   "cell_type": "code",
   "execution_count": 30,
   "metadata": {},
   "outputs": [
    {
     "name": "stderr",
     "output_type": "stream",
     "text": [
      "Region = us-east-1\n",
      "Region = us-east-1\n"
     ]
    }
   ],
   "source": [
    "region = sagemaker.Session().boto_region_name\n",
    "boto3.setup_default_session(region_name=region)\n",
    "boto_session = boto3.Session(region_name=region)\n",
    "sagemaker_client = boto_session.client('sagemaker')\n",
    "logger.info(f'Region = {region}')"
   ]
  },
  {
   "cell_type": "markdown",
   "metadata": {},
   "source": [
    "### List all Model Package Groups in SageMaker Model Registry"
   ]
  },
  {
   "cell_type": "code",
   "execution_count": 31,
   "metadata": {},
   "outputs": [
    {
     "data": {
      "text/plain": [
       "[{'ModelPackageGroupName': 'bert-email-classifier',\n",
       "  'ModelPackageGroupArn': 'arn:aws:sagemaker:us-east-1:892313895307:model-package-group/bert-email-classifier',\n",
       "  'ModelPackageGroupDescription': 'BERT-based multi-class classifier for email threat detection',\n",
       "  'CreationTime': datetime.datetime(2021, 8, 8, 4, 12, 23, 602000, tzinfo=tzlocal()),\n",
       "  'ModelPackageGroupStatus': 'Completed'},\n",
       " {'ModelPackageGroupName': 'email-spam-classification',\n",
       "  'ModelPackageGroupArn': 'arn:aws:sagemaker:us-east-1:892313895307:model-package-group/email-spam-classification',\n",
       "  'ModelPackageGroupDescription': 'email spam',\n",
       "  'CreationTime': datetime.datetime(2021, 8, 5, 17, 1, 6, 613000, tzinfo=tzlocal()),\n",
       "  'ModelPackageGroupStatus': 'Completed'},\n",
       " {'ModelPackageGroupName': 'project-1-ci-cd-p-wphdcrsekdft',\n",
       "  'ModelPackageGroupArn': 'arn:aws:sagemaker:us-east-1:892313895307:model-package-group/project-1-ci-cd-p-wphdcrsekdft',\n",
       "  'CreationTime': datetime.datetime(2021, 7, 26, 13, 20, 29, 726000, tzinfo=tzlocal()),\n",
       "  'ModelPackageGroupStatus': 'Completed'},\n",
       " {'ModelPackageGroupName': 'fraud-detect-demo',\n",
       "  'ModelPackageGroupArn': 'arn:aws:sagemaker:us-east-1:892313895307:model-package-group/fraud-detect-demo',\n",
       "  'ModelPackageGroupDescription': 'Insurance claim fraud detection',\n",
       "  'CreationTime': datetime.datetime(2021, 7, 19, 22, 6, 8, 743000, tzinfo=tzlocal()),\n",
       "  'ModelPackageGroupStatus': 'Completed'},\n",
       " {'ModelPackageGroupName': 'bert-clf',\n",
       "  'ModelPackageGroupArn': 'arn:aws:sagemaker:us-east-1:892313895307:model-package-group/bert-clf',\n",
       "  'ModelPackageGroupDescription': 'bert classification models',\n",
       "  'CreationTime': datetime.datetime(2021, 6, 10, 18, 31, 53, 822000, tzinfo=tzlocal()),\n",
       "  'ModelPackageGroupStatus': 'Completed'},\n",
       " {'ModelPackageGroupName': 'demo-ci-cd-pipeline-p-exrt8arvmeyk',\n",
       "  'ModelPackageGroupArn': 'arn:aws:sagemaker:us-east-1:892313895307:model-package-group/demo-ci-cd-pipeline-p-exrt8arvmeyk',\n",
       "  'CreationTime': datetime.datetime(2021, 6, 7, 17, 25, 35, 935000, tzinfo=tzlocal()),\n",
       "  'ModelPackageGroupStatus': 'Completed'},\n",
       " {'ModelPackageGroupName': 'AbaloneModelPackageGroup-Example',\n",
       "  'ModelPackageGroupArn': 'arn:aws:sagemaker:us-east-1:892313895307:model-package-group/abalonemodelpackagegroup-example',\n",
       "  'CreationTime': datetime.datetime(2021, 6, 1, 17, 47, 13, 79000, tzinfo=tzlocal()),\n",
       "  'ModelPackageGroupStatus': 'Completed'},\n",
       " {'ModelPackageGroupName': 'demo-sagemaker-project-p-dqmgawtqyzje',\n",
       "  'ModelPackageGroupArn': 'arn:aws:sagemaker:us-east-1:892313895307:model-package-group/demo-sagemaker-project-p-dqmgawtqyzje',\n",
       "  'CreationTime': datetime.datetime(2021, 6, 1, 17, 27, 15, 617000, tzinfo=tzlocal()),\n",
       "  'ModelPackageGroupStatus': 'Completed'},\n",
       " {'ModelPackageGroupName': 'AbaloneML',\n",
       "  'ModelPackageGroupArn': 'arn:aws:sagemaker:us-east-1:892313895307:model-package-group/abaloneml',\n",
       "  'CreationTime': datetime.datetime(2021, 5, 23, 22, 21, 21, 129000, tzinfo=tzlocal()),\n",
       "  'ModelPackageGroupStatus': 'Completed'},\n",
       " {'ModelPackageGroupName': 'demo-p-viu3vuyqhdwj',\n",
       "  'ModelPackageGroupArn': 'arn:aws:sagemaker:us-east-1:892313895307:model-package-group/demo-p-viu3vuyqhdwj',\n",
       "  'CreationTime': datetime.datetime(2020, 12, 15, 2, 58, 41, 377000, tzinfo=tzlocal()),\n",
       "  'ModelPackageGroupStatus': 'Completed'}]"
      ]
     },
     "execution_count": 31,
     "metadata": {},
     "output_type": "execute_result"
    }
   ],
   "source": [
    "sagemaker_client.list_model_package_groups()['ModelPackageGroupSummaryList']"
   ]
  },
  {
   "cell_type": "markdown",
   "metadata": {},
   "source": [
    "### Create a Model Package Group"
   ]
  },
  {
   "cell_type": "code",
   "execution_count": 32,
   "metadata": {},
   "outputs": [],
   "source": [
    "model_package_group_name = 'bert-email-classifier'\n",
    "config = {'ModelPackageGroupName': model_package_group_name, \n",
    "          'ModelPackageGroupDescription': 'BERT-based multi-class classifier for email threat detection'\n",
    "         }"
   ]
  },
  {
   "cell_type": "code",
   "execution_count": 33,
   "metadata": {},
   "outputs": [
    {
     "data": {
      "text/plain": [
       "[{'ModelPackageGroupName': 'bert-email-classifier',\n",
       "  'ModelPackageGroupArn': 'arn:aws:sagemaker:us-east-1:892313895307:model-package-group/bert-email-classifier',\n",
       "  'ModelPackageGroupDescription': 'BERT-based multi-class classifier for email threat detection',\n",
       "  'CreationTime': datetime.datetime(2021, 8, 8, 4, 12, 23, 602000, tzinfo=tzlocal()),\n",
       "  'ModelPackageGroupStatus': 'Completed'}]"
      ]
     },
     "execution_count": 33,
     "metadata": {},
     "output_type": "execute_result"
    }
   ],
   "source": [
    "sagemaker_client.list_model_package_groups(NameContains=model_package_group_name)['ModelPackageGroupSummaryList']"
   ]
  },
  {
   "cell_type": "code",
   "execution_count": 34,
   "metadata": {},
   "outputs": [
    {
     "name": "stderr",
     "output_type": "stream",
     "text": [
      "Model Package Group already exists!\n",
      "Model Package Group already exists!\n"
     ]
    }
   ],
   "source": [
    "if not sagemaker_client.list_model_package_groups(NameContains=model_package_group_name)['ModelPackageGroupSummaryList']:\n",
    "    response = sagemaker_client.create_model_package_group(**config)\n",
    "    logger.info(f'Model Package Group: {model_package_group_name} created!')\n",
    "    logger.info(f'Response: {response}')\n",
    "else:\n",
    "    logger.warning('Model Package Group already exists!')"
   ]
  },
  {
   "cell_type": "markdown",
   "metadata": {},
   "source": [
    "### List Model Packages \n",
    "https://boto3.amazonaws.com/v1/documentation/api/latest/reference/services/sagemaker.html#SageMaker.Client.list_model_packages"
   ]
  },
  {
   "cell_type": "code",
   "execution_count": 35,
   "metadata": {},
   "outputs": [
    {
     "data": {
      "text/plain": [
       "{'ModelPackageSummaryList': [{'ModelPackageGroupName': 'bert-email-classifier',\n",
       "   'ModelPackageVersion': 1,\n",
       "   'ModelPackageArn': 'arn:aws:sagemaker:us-east-1:892313895307:model-package/bert-email-classifier/1',\n",
       "   'ModelPackageDescription': 'CreatedOn: 08-08-04-12',\n",
       "   'CreationTime': datetime.datetime(2021, 8, 8, 4, 13, 20, 734000, tzinfo=tzlocal()),\n",
       "   'ModelPackageStatus': 'Completed',\n",
       "   'ModelApprovalStatus': 'Approved'}],\n",
       " 'ResponseMetadata': {'RequestId': '8bfe52c2-c31a-446a-872d-0c72c493a1ff',\n",
       "  'HTTPStatusCode': 200,\n",
       "  'HTTPHeaders': {'x-amzn-requestid': '8bfe52c2-c31a-446a-872d-0c72c493a1ff',\n",
       "   'content-type': 'application/x-amz-json-1.1',\n",
       "   'content-length': '351',\n",
       "   'date': 'Sun, 08 Aug 2021 04:14:16 GMT'},\n",
       "  'RetryAttempts': 0}}"
      ]
     },
     "execution_count": 35,
     "metadata": {},
     "output_type": "execute_result"
    }
   ],
   "source": [
    "response = sagemaker_client.list_model_packages(ModelPackageGroupName=model_package_group_name)\n",
    "response"
   ]
  },
  {
   "cell_type": "markdown",
   "metadata": {},
   "source": [
    "### Describe a Model Package Group"
   ]
  },
  {
   "cell_type": "code",
   "execution_count": 36,
   "metadata": {},
   "outputs": [
    {
     "data": {
      "text/plain": [
       "{'ModelPackageGroupName': 'bert-email-classifier',\n",
       " 'ModelPackageGroupArn': 'arn:aws:sagemaker:us-east-1:892313895307:model-package-group/bert-email-classifier',\n",
       " 'ModelPackageGroupDescription': 'BERT-based multi-class classifier for email threat detection',\n",
       " 'CreationTime': datetime.datetime(2021, 8, 8, 4, 12, 23, 602000, tzinfo=tzlocal()),\n",
       " 'CreatedBy': {'UserProfileArn': 'arn:aws:sagemaker:us-east-1:892313895307:user-profile/d-dowart1jabkf/ts-zd-e2e',\n",
       "  'UserProfileName': 'ts-zd-e2e',\n",
       "  'DomainId': 'd-dowart1jabkf'},\n",
       " 'ModelPackageGroupStatus': 'Completed',\n",
       " 'ResponseMetadata': {'RequestId': '7670b2a2-d52f-47e4-997e-919a51a12269',\n",
       "  'HTTPStatusCode': 200,\n",
       "  'HTTPHeaders': {'x-amzn-requestid': '7670b2a2-d52f-47e4-997e-919a51a12269',\n",
       "   'content-type': 'application/x-amz-json-1.1',\n",
       "   'content-length': '491',\n",
       "   'date': 'Sun, 08 Aug 2021 04:14:16 GMT'},\n",
       "  'RetryAttempts': 0}}"
      ]
     },
     "execution_count": 36,
     "metadata": {},
     "output_type": "execute_result"
    }
   ],
   "source": [
    "sagemaker_client.describe_model_package_group(ModelPackageGroupName=model_package_group_name)"
   ]
  },
  {
   "cell_type": "markdown",
   "metadata": {},
   "source": [
    "### How do I register a trained BERT model to the model registry "
   ]
  },
  {
   "cell_type": "code",
   "execution_count": 37,
   "metadata": {},
   "outputs": [
    {
     "data": {
      "text/plain": [
       "'763104351884.dkr.ecr.us-east-1.amazonaws.com/huggingface-tensorflow-inference:2.4.1-transformers4.6.1-cpu-py37-ubuntu18.04'"
      ]
     },
     "execution_count": 37,
     "metadata": {},
     "output_type": "execute_result"
    }
   ],
   "source": [
    "ecr_image = image_uris.retrieve(framework='huggingface', \n",
    "                                region='us-east-1', \n",
    "                                version='4.6.1', \n",
    "                                image_scope='inference', \n",
    "                                base_framework_version='tensorflow2.4.1', \n",
    "                                py_version='py37', \n",
    "                                container_version='ubuntu18.04', \n",
    "                                instance_type='ml.m5.4xlarge')\n",
    "ecr_image"
   ]
  },
  {
   "cell_type": "markdown",
   "metadata": {},
   "source": [
    "1. Define the inference spec "
   ]
  },
  {
   "cell_type": "code",
   "execution_count": 38,
   "metadata": {},
   "outputs": [],
   "source": [
    "# ecr_image = '763104351884.dkr.ecr.us-west-2.amazonaws.com/huggingface-tensorflow-training:2.4.1-transformers4.6.1-gpu-py37-cu110-ubuntu18.04'\n",
    "inference_spec = InferenceSpec().get_dict(ecr_image=ecr_image, \n",
    "                                          supports_gpu=True, \n",
    "                                          supported_content_types=['text/csv'], \n",
    "                                          supported_mime_types=['text/csv'])"
   ]
  },
  {
   "cell_type": "code",
   "execution_count": 39,
   "metadata": {},
   "outputs": [
    {
     "data": {
      "text/plain": [
       "{'InferenceSpecification': {'Containers': [{'Image': '763104351884.dkr.ecr.us-east-1.amazonaws.com/huggingface-tensorflow-inference:2.4.1-transformers4.6.1-cpu-py37-ubuntu18.04',\n",
       "    'ModelDataUrl': 's3://sagemaker-us-east-1-892313895307/pipeline/model/model.tar.gz'}],\n",
       "  'SupportedTransformInstanceTypes': ['ml.m4.xlarge',\n",
       "   'ml.m4.2xlarge',\n",
       "   'ml.m4.4xlarge',\n",
       "   'ml.m4.10xlarge',\n",
       "   'ml.m4.16xlarge',\n",
       "   'ml.m5.large',\n",
       "   'ml.m5.xlarge',\n",
       "   'ml.m5.2xlarge',\n",
       "   'ml.m5.4xlarge',\n",
       "   'ml.m5.12xlarge',\n",
       "   'ml.m5.24xlarge',\n",
       "   'ml.c4.xlarge',\n",
       "   'ml.c4.2xlarge',\n",
       "   'ml.c4.4xlarge',\n",
       "   'ml.c4.8xlarge',\n",
       "   'ml.c5.xlarge',\n",
       "   'ml.c5.2xlarge',\n",
       "   'ml.c5.4xlarge',\n",
       "   'ml.c5.9xlarge',\n",
       "   'ml.c5.18xlarge',\n",
       "   'ml.p2.xlarge',\n",
       "   'ml.p2.8xlarge',\n",
       "   'ml.p2.16xlarge',\n",
       "   'ml.p3.2xlarge',\n",
       "   'ml.p3.8xlarge',\n",
       "   'ml.p3.16xlarge'],\n",
       "  'SupportedRealtimeInferenceInstanceTypes': ['ml.m4.xlarge',\n",
       "   'ml.m4.2xlarge',\n",
       "   'ml.m4.4xlarge',\n",
       "   'ml.m4.10xlarge',\n",
       "   'ml.m4.16xlarge',\n",
       "   'ml.m5.large',\n",
       "   'ml.m5.xlarge',\n",
       "   'ml.m5.2xlarge',\n",
       "   'ml.m5.4xlarge',\n",
       "   'ml.m5.12xlarge',\n",
       "   'ml.m5.24xlarge',\n",
       "   'ml.c4.xlarge',\n",
       "   'ml.c4.2xlarge',\n",
       "   'ml.c4.4xlarge',\n",
       "   'ml.c4.8xlarge',\n",
       "   'ml.c5.xlarge',\n",
       "   'ml.c5.2xlarge',\n",
       "   'ml.c5.4xlarge',\n",
       "   'ml.c5.9xlarge',\n",
       "   'ml.c5.18xlarge',\n",
       "   'ml.p2.xlarge',\n",
       "   'ml.p2.8xlarge',\n",
       "   'ml.p2.16xlarge',\n",
       "   'ml.p3.2xlarge',\n",
       "   'ml.p3.8xlarge',\n",
       "   'ml.p3.16xlarge'],\n",
       "  'SupportedContentTypes': ['text/csv'],\n",
       "  'SupportedResponseMIMETypes': ['text/csv']}}"
      ]
     },
     "execution_count": 39,
     "metadata": {},
     "output_type": "execute_result"
    }
   ],
   "source": [
    "inference_spec[\"InferenceSpecification\"][\"Containers\"][0][\"ModelDataUrl\"] = 's3://sagemaker-us-east-1-892313895307/pipeline/model/model.tar.gz'\n",
    "inference_spec"
   ]
  },
  {
   "cell_type": "markdown",
   "metadata": {},
   "source": [
    "**Note:** The ModelDataUrl can also be obtained from a previously run training job."
   ]
  },
  {
   "cell_type": "markdown",
   "metadata": {},
   "source": [
    "2. Define/load model metrics "
   ]
  },
  {
   "cell_type": "code",
   "execution_count": 40,
   "metadata": {},
   "outputs": [],
   "source": [
    "with open('./metrics.json', 'rb') as f:\n",
    "    model_metrics = json.load(f)"
   ]
  },
  {
   "cell_type": "code",
   "execution_count": 41,
   "metadata": {},
   "outputs": [
    {
     "data": {
      "text/plain": [
       "{'binary_classification_metrics': {'accuracy': {'value': 0.7768782067298889,\n",
       "   'standard_deviation': 'NaN'},\n",
       "  'f2': {'value': 0.5370374250411987, 'standard_deviation': 'NaN'}}}"
      ]
     },
     "execution_count": 41,
     "metadata": {},
     "output_type": "execute_result"
    }
   ],
   "source": [
    "model_metrics"
   ]
  },
  {
   "cell_type": "code",
   "execution_count": 42,
   "metadata": {},
   "outputs": [],
   "source": [
    "current_timestamp = strftime('%m-%d-%H-%M', gmtime())"
   ]
  },
  {
   "cell_type": "markdown",
   "metadata": {},
   "source": [
    "Let's push this metrics file to S3"
   ]
  },
  {
   "cell_type": "code",
   "execution_count": 43,
   "metadata": {},
   "outputs": [
    {
     "name": "stdout",
     "output_type": "stream",
     "text": [
      "upload: ./metrics.json to s3://sagemaker-us-east-1-892313895307/metrics/08-08-04-14/metrics.json\n"
     ]
    }
   ],
   "source": [
    "!aws s3 cp metrics.json s3://sagemaker-us-east-1-892313895307/metrics/{current_timestamp}/metrics.json"
   ]
  },
  {
   "cell_type": "code",
   "execution_count": 44,
   "metadata": {},
   "outputs": [],
   "source": [
    "model_metrics = {\n",
    "    \"ModelQuality\": {\n",
    "        \"Statistics\": {\n",
    "            \"ContentType\": \"application/json\",\n",
    "            \"S3Uri\": f\"s3://sagemaker-us-east-1-892313895307/metrics/{current_timestamp}/metrics.json\",\n",
    "        }\n",
    "    }\n",
    "}"
   ]
  },
  {
   "cell_type": "markdown",
   "metadata": {},
   "source": [
    "3. Create model package config (dictionary)"
   ]
  },
  {
   "cell_type": "code",
   "execution_count": 45,
   "metadata": {},
   "outputs": [
    {
     "data": {
      "text/plain": [
       "{'ModelPackageGroupName': 'bert-email-classifier',\n",
       " 'ModelPackageDescription': 'CreatedOn: 08-08-04-14',\n",
       " 'ModelApprovalStatus': 'PendingManualApproval',\n",
       " 'ModelMetrics': {'ModelQuality': {'Statistics': {'ContentType': 'application/json',\n",
       "    'S3Uri': 's3://sagemaker-us-east-1-892313895307/metrics/08-08-04-14/metrics.json'}}},\n",
       " 'InferenceSpecification': {'Containers': [{'Image': '763104351884.dkr.ecr.us-east-1.amazonaws.com/huggingface-tensorflow-inference:2.4.1-transformers4.6.1-cpu-py37-ubuntu18.04',\n",
       "    'ModelDataUrl': 's3://sagemaker-us-east-1-892313895307/pipeline/model/model.tar.gz'}],\n",
       "  'SupportedTransformInstanceTypes': ['ml.m4.xlarge',\n",
       "   'ml.m4.2xlarge',\n",
       "   'ml.m4.4xlarge',\n",
       "   'ml.m4.10xlarge',\n",
       "   'ml.m4.16xlarge',\n",
       "   'ml.m5.large',\n",
       "   'ml.m5.xlarge',\n",
       "   'ml.m5.2xlarge',\n",
       "   'ml.m5.4xlarge',\n",
       "   'ml.m5.12xlarge',\n",
       "   'ml.m5.24xlarge',\n",
       "   'ml.c4.xlarge',\n",
       "   'ml.c4.2xlarge',\n",
       "   'ml.c4.4xlarge',\n",
       "   'ml.c4.8xlarge',\n",
       "   'ml.c5.xlarge',\n",
       "   'ml.c5.2xlarge',\n",
       "   'ml.c5.4xlarge',\n",
       "   'ml.c5.9xlarge',\n",
       "   'ml.c5.18xlarge',\n",
       "   'ml.p2.xlarge',\n",
       "   'ml.p2.8xlarge',\n",
       "   'ml.p2.16xlarge',\n",
       "   'ml.p3.2xlarge',\n",
       "   'ml.p3.8xlarge',\n",
       "   'ml.p3.16xlarge'],\n",
       "  'SupportedRealtimeInferenceInstanceTypes': ['ml.m4.xlarge',\n",
       "   'ml.m4.2xlarge',\n",
       "   'ml.m4.4xlarge',\n",
       "   'ml.m4.10xlarge',\n",
       "   'ml.m4.16xlarge',\n",
       "   'ml.m5.large',\n",
       "   'ml.m5.xlarge',\n",
       "   'ml.m5.2xlarge',\n",
       "   'ml.m5.4xlarge',\n",
       "   'ml.m5.12xlarge',\n",
       "   'ml.m5.24xlarge',\n",
       "   'ml.c4.xlarge',\n",
       "   'ml.c4.2xlarge',\n",
       "   'ml.c4.4xlarge',\n",
       "   'ml.c4.8xlarge',\n",
       "   'ml.c5.xlarge',\n",
       "   'ml.c5.2xlarge',\n",
       "   'ml.c5.4xlarge',\n",
       "   'ml.c5.9xlarge',\n",
       "   'ml.c5.18xlarge',\n",
       "   'ml.p2.xlarge',\n",
       "   'ml.p2.8xlarge',\n",
       "   'ml.p2.16xlarge',\n",
       "   'ml.p3.2xlarge',\n",
       "   'ml.p3.8xlarge',\n",
       "   'ml.p3.16xlarge'],\n",
       "  'SupportedContentTypes': ['text/csv'],\n",
       "  'SupportedResponseMIMETypes': ['text/csv']}}"
      ]
     },
     "execution_count": 45,
     "metadata": {},
     "output_type": "execute_result"
    }
   ],
   "source": [
    "model_package_input_dict = {\"ModelPackageGroupName\": model_package_group_name,\n",
    "                            \"ModelPackageDescription\": f\"CreatedOn: {current_timestamp}\", \n",
    "                            \"ModelApprovalStatus\": \"PendingManualApproval\", \n",
    "                            \"ModelMetrics\": model_metrics}\n",
    "\n",
    "model_package_input_dict.update(inference_spec)\n",
    "model_package_input_dict"
   ]
  },
  {
   "cell_type": "code",
   "execution_count": 46,
   "metadata": {},
   "outputs": [],
   "source": [
    "meta = {'MetadataProperties': {'GeneratedBy': 'BERT-Pipeline'}}\n",
    "model_package_input_dict.update(meta)"
   ]
  },
  {
   "cell_type": "code",
   "execution_count": 47,
   "metadata": {},
   "outputs": [
    {
     "data": {
      "text/plain": [
       "{'ModelPackageGroupName': 'bert-email-classifier',\n",
       " 'ModelPackageDescription': 'CreatedOn: 08-08-04-14',\n",
       " 'ModelApprovalStatus': 'PendingManualApproval',\n",
       " 'ModelMetrics': {'ModelQuality': {'Statistics': {'ContentType': 'application/json',\n",
       "    'S3Uri': 's3://sagemaker-us-east-1-892313895307/metrics/08-08-04-14/metrics.json'}}},\n",
       " 'InferenceSpecification': {'Containers': [{'Image': '763104351884.dkr.ecr.us-east-1.amazonaws.com/huggingface-tensorflow-inference:2.4.1-transformers4.6.1-cpu-py37-ubuntu18.04',\n",
       "    'ModelDataUrl': 's3://sagemaker-us-east-1-892313895307/pipeline/model/model.tar.gz'}],\n",
       "  'SupportedTransformInstanceTypes': ['ml.m4.xlarge',\n",
       "   'ml.m4.2xlarge',\n",
       "   'ml.m4.4xlarge',\n",
       "   'ml.m4.10xlarge',\n",
       "   'ml.m4.16xlarge',\n",
       "   'ml.m5.large',\n",
       "   'ml.m5.xlarge',\n",
       "   'ml.m5.2xlarge',\n",
       "   'ml.m5.4xlarge',\n",
       "   'ml.m5.12xlarge',\n",
       "   'ml.m5.24xlarge',\n",
       "   'ml.c4.xlarge',\n",
       "   'ml.c4.2xlarge',\n",
       "   'ml.c4.4xlarge',\n",
       "   'ml.c4.8xlarge',\n",
       "   'ml.c5.xlarge',\n",
       "   'ml.c5.2xlarge',\n",
       "   'ml.c5.4xlarge',\n",
       "   'ml.c5.9xlarge',\n",
       "   'ml.c5.18xlarge',\n",
       "   'ml.p2.xlarge',\n",
       "   'ml.p2.8xlarge',\n",
       "   'ml.p2.16xlarge',\n",
       "   'ml.p3.2xlarge',\n",
       "   'ml.p3.8xlarge',\n",
       "   'ml.p3.16xlarge'],\n",
       "  'SupportedRealtimeInferenceInstanceTypes': ['ml.m4.xlarge',\n",
       "   'ml.m4.2xlarge',\n",
       "   'ml.m4.4xlarge',\n",
       "   'ml.m4.10xlarge',\n",
       "   'ml.m4.16xlarge',\n",
       "   'ml.m5.large',\n",
       "   'ml.m5.xlarge',\n",
       "   'ml.m5.2xlarge',\n",
       "   'ml.m5.4xlarge',\n",
       "   'ml.m5.12xlarge',\n",
       "   'ml.m5.24xlarge',\n",
       "   'ml.c4.xlarge',\n",
       "   'ml.c4.2xlarge',\n",
       "   'ml.c4.4xlarge',\n",
       "   'ml.c4.8xlarge',\n",
       "   'ml.c5.xlarge',\n",
       "   'ml.c5.2xlarge',\n",
       "   'ml.c5.4xlarge',\n",
       "   'ml.c5.9xlarge',\n",
       "   'ml.c5.18xlarge',\n",
       "   'ml.p2.xlarge',\n",
       "   'ml.p2.8xlarge',\n",
       "   'ml.p2.16xlarge',\n",
       "   'ml.p3.2xlarge',\n",
       "   'ml.p3.8xlarge',\n",
       "   'ml.p3.16xlarge'],\n",
       "  'SupportedContentTypes': ['text/csv'],\n",
       "  'SupportedResponseMIMETypes': ['text/csv']},\n",
       " 'MetadataProperties': {'GeneratedBy': 'BERT-Pipeline'}}"
      ]
     },
     "execution_count": 47,
     "metadata": {},
     "output_type": "execute_result"
    }
   ],
   "source": [
    "model_package_input_dict"
   ]
  },
  {
   "cell_type": "markdown",
   "metadata": {},
   "source": [
    "4. Create the Model Package "
   ]
  },
  {
   "cell_type": "code",
   "execution_count": 48,
   "metadata": {},
   "outputs": [
    {
     "data": {
      "text/plain": [
       "{'ModelPackageArn': 'arn:aws:sagemaker:us-east-1:892313895307:model-package/bert-email-classifier/2',\n",
       " 'ResponseMetadata': {'RequestId': 'da23445a-130b-4c81-b1a7-2f21589df78b',\n",
       "  'HTTPStatusCode': 200,\n",
       "  'HTTPHeaders': {'x-amzn-requestid': 'da23445a-130b-4c81-b1a7-2f21589df78b',\n",
       "   'content-type': 'application/x-amz-json-1.1',\n",
       "   'content-length': '100',\n",
       "   'date': 'Sun, 08 Aug 2021 04:14:21 GMT'},\n",
       "  'RetryAttempts': 0}}"
      ]
     },
     "execution_count": 48,
     "metadata": {},
     "output_type": "execute_result"
    }
   ],
   "source": [
    "response = sagemaker_client.create_model_package(**model_package_input_dict)\n",
    "response"
   ]
  },
  {
   "cell_type": "code",
   "execution_count": 49,
   "metadata": {},
   "outputs": [
    {
     "data": {
      "text/plain": [
       "{'ModelPackageGroupName': 'bert-email-classifier',\n",
       " 'ModelPackageVersion': 2,\n",
       " 'ModelPackageArn': 'arn:aws:sagemaker:us-east-1:892313895307:model-package/bert-email-classifier/2',\n",
       " 'ModelPackageDescription': 'CreatedOn: 08-08-04-14',\n",
       " 'CreationTime': datetime.datetime(2021, 8, 8, 4, 14, 22, 252000, tzinfo=tzlocal()),\n",
       " 'InferenceSpecification': {'Containers': [{'Image': '763104351884.dkr.ecr.us-east-1.amazonaws.com/huggingface-tensorflow-inference:2.4.1-transformers4.6.1-cpu-py37-ubuntu18.04',\n",
       "    'ImageDigest': 'sha256:8bf391a8d10e8e7f5d26223625e8ab97276fd7dfa2a41075ddd84418055ecbb8',\n",
       "    'ModelDataUrl': 's3://sagemaker-us-east-1-892313895307/pipeline/model/model.tar.gz'}],\n",
       "  'SupportedTransformInstanceTypes': ['ml.m4.xlarge',\n",
       "   'ml.m4.2xlarge',\n",
       "   'ml.m4.4xlarge',\n",
       "   'ml.m4.10xlarge',\n",
       "   'ml.m4.16xlarge',\n",
       "   'ml.m5.large',\n",
       "   'ml.m5.xlarge',\n",
       "   'ml.m5.2xlarge',\n",
       "   'ml.m5.4xlarge',\n",
       "   'ml.m5.12xlarge',\n",
       "   'ml.m5.24xlarge',\n",
       "   'ml.c4.xlarge',\n",
       "   'ml.c4.2xlarge',\n",
       "   'ml.c4.4xlarge',\n",
       "   'ml.c4.8xlarge',\n",
       "   'ml.c5.xlarge',\n",
       "   'ml.c5.2xlarge',\n",
       "   'ml.c5.4xlarge',\n",
       "   'ml.c5.9xlarge',\n",
       "   'ml.c5.18xlarge',\n",
       "   'ml.p2.xlarge',\n",
       "   'ml.p2.8xlarge',\n",
       "   'ml.p2.16xlarge',\n",
       "   'ml.p3.2xlarge',\n",
       "   'ml.p3.8xlarge',\n",
       "   'ml.p3.16xlarge'],\n",
       "  'SupportedRealtimeInferenceInstanceTypes': ['ml.m4.xlarge',\n",
       "   'ml.m4.2xlarge',\n",
       "   'ml.m4.4xlarge',\n",
       "   'ml.m4.10xlarge',\n",
       "   'ml.m4.16xlarge',\n",
       "   'ml.m5.large',\n",
       "   'ml.m5.xlarge',\n",
       "   'ml.m5.2xlarge',\n",
       "   'ml.m5.4xlarge',\n",
       "   'ml.m5.12xlarge',\n",
       "   'ml.m5.24xlarge',\n",
       "   'ml.c4.xlarge',\n",
       "   'ml.c4.2xlarge',\n",
       "   'ml.c4.4xlarge',\n",
       "   'ml.c4.8xlarge',\n",
       "   'ml.c5.xlarge',\n",
       "   'ml.c5.2xlarge',\n",
       "   'ml.c5.4xlarge',\n",
       "   'ml.c5.9xlarge',\n",
       "   'ml.c5.18xlarge',\n",
       "   'ml.p2.xlarge',\n",
       "   'ml.p2.8xlarge',\n",
       "   'ml.p2.16xlarge',\n",
       "   'ml.p3.2xlarge',\n",
       "   'ml.p3.8xlarge',\n",
       "   'ml.p3.16xlarge'],\n",
       "  'SupportedContentTypes': ['text/csv'],\n",
       "  'SupportedResponseMIMETypes': ['text/csv']},\n",
       " 'ModelPackageStatus': 'Completed',\n",
       " 'ModelPackageStatusDetails': {'ValidationStatuses': [],\n",
       "  'ImageScanStatuses': []},\n",
       " 'CertifyForMarketplace': False,\n",
       " 'ModelApprovalStatus': 'PendingManualApproval',\n",
       " 'CreatedBy': {'UserProfileArn': 'arn:aws:sagemaker:us-east-1:892313895307:user-profile/d-dowart1jabkf/ts-zd-e2e',\n",
       "  'UserProfileName': 'ts-zd-e2e',\n",
       "  'DomainId': 'd-dowart1jabkf'},\n",
       " 'MetadataProperties': {'GeneratedBy': 'BERT-Pipeline'},\n",
       " 'ModelMetrics': {'ModelQuality': {'Statistics': {'ContentType': 'application/json',\n",
       "    'S3Uri': 's3://sagemaker-us-east-1-892313895307/metrics/08-08-04-14/metrics.json'}}},\n",
       " 'ResponseMetadata': {'RequestId': '0899c194-437e-4ac0-a2ec-a883b8bf0a41',\n",
       "  'HTTPStatusCode': 200,\n",
       "  'HTTPHeaders': {'x-amzn-requestid': '0899c194-437e-4ac0-a2ec-a883b8bf0a41',\n",
       "   'content-type': 'application/x-amz-json-1.1',\n",
       "   'content-length': '2166',\n",
       "   'date': 'Sun, 08 Aug 2021 04:14:21 GMT'},\n",
       "  'RetryAttempts': 0}}"
      ]
     },
     "execution_count": 49,
     "metadata": {},
     "output_type": "execute_result"
    }
   ],
   "source": [
    "arn = response[\"ModelPackageArn\"]\n",
    "model_package_info = sagemaker_client.describe_model_package(ModelPackageName=arn)\n",
    "model_package_info"
   ]
  },
  {
   "cell_type": "code",
   "execution_count": 50,
   "metadata": {},
   "outputs": [
    {
     "name": "stderr",
     "output_type": "stream",
     "text": [
      "model package status: Completed\n",
      "model package status: Completed\n"
     ]
    }
   ],
   "source": [
    "status = model_package_info[\"ModelPackageStatus\"]\n",
    "\n",
    "while status not in [\"Completed\", \"Failed\"]:\n",
    "    time.sleep(5)\n",
    "    info = sagemaker_client.describe_model_package(ModelPackageName=arn)\n",
    "    status = info[\"ModelPackageStatus\"]\n",
    "    logger.info(f\"model package status: {status}\")\n",
    "logger.info(f\"model package status: {status}\")"
   ]
  },
  {
   "cell_type": "markdown",
   "metadata": {},
   "source": [
    "### Describe a Model Package "
   ]
  },
  {
   "cell_type": "code",
   "execution_count": 51,
   "metadata": {},
   "outputs": [
    {
     "data": {
      "text/plain": [
       "{'ModelPackageGroupName': 'bert-email-classifier',\n",
       " 'ModelPackageVersion': 2,\n",
       " 'ModelPackageArn': 'arn:aws:sagemaker:us-east-1:892313895307:model-package/bert-email-classifier/2',\n",
       " 'ModelPackageDescription': 'CreatedOn: 08-08-04-14',\n",
       " 'CreationTime': datetime.datetime(2021, 8, 8, 4, 14, 22, 252000, tzinfo=tzlocal()),\n",
       " 'InferenceSpecification': {'Containers': [{'Image': '763104351884.dkr.ecr.us-east-1.amazonaws.com/huggingface-tensorflow-inference:2.4.1-transformers4.6.1-cpu-py37-ubuntu18.04',\n",
       "    'ImageDigest': 'sha256:8bf391a8d10e8e7f5d26223625e8ab97276fd7dfa2a41075ddd84418055ecbb8',\n",
       "    'ModelDataUrl': 's3://sagemaker-us-east-1-892313895307/pipeline/model/model.tar.gz'}],\n",
       "  'SupportedTransformInstanceTypes': ['ml.m4.xlarge',\n",
       "   'ml.m4.2xlarge',\n",
       "   'ml.m4.4xlarge',\n",
       "   'ml.m4.10xlarge',\n",
       "   'ml.m4.16xlarge',\n",
       "   'ml.m5.large',\n",
       "   'ml.m5.xlarge',\n",
       "   'ml.m5.2xlarge',\n",
       "   'ml.m5.4xlarge',\n",
       "   'ml.m5.12xlarge',\n",
       "   'ml.m5.24xlarge',\n",
       "   'ml.c4.xlarge',\n",
       "   'ml.c4.2xlarge',\n",
       "   'ml.c4.4xlarge',\n",
       "   'ml.c4.8xlarge',\n",
       "   'ml.c5.xlarge',\n",
       "   'ml.c5.2xlarge',\n",
       "   'ml.c5.4xlarge',\n",
       "   'ml.c5.9xlarge',\n",
       "   'ml.c5.18xlarge',\n",
       "   'ml.p2.xlarge',\n",
       "   'ml.p2.8xlarge',\n",
       "   'ml.p2.16xlarge',\n",
       "   'ml.p3.2xlarge',\n",
       "   'ml.p3.8xlarge',\n",
       "   'ml.p3.16xlarge'],\n",
       "  'SupportedRealtimeInferenceInstanceTypes': ['ml.m4.xlarge',\n",
       "   'ml.m4.2xlarge',\n",
       "   'ml.m4.4xlarge',\n",
       "   'ml.m4.10xlarge',\n",
       "   'ml.m4.16xlarge',\n",
       "   'ml.m5.large',\n",
       "   'ml.m5.xlarge',\n",
       "   'ml.m5.2xlarge',\n",
       "   'ml.m5.4xlarge',\n",
       "   'ml.m5.12xlarge',\n",
       "   'ml.m5.24xlarge',\n",
       "   'ml.c4.xlarge',\n",
       "   'ml.c4.2xlarge',\n",
       "   'ml.c4.4xlarge',\n",
       "   'ml.c4.8xlarge',\n",
       "   'ml.c5.xlarge',\n",
       "   'ml.c5.2xlarge',\n",
       "   'ml.c5.4xlarge',\n",
       "   'ml.c5.9xlarge',\n",
       "   'ml.c5.18xlarge',\n",
       "   'ml.p2.xlarge',\n",
       "   'ml.p2.8xlarge',\n",
       "   'ml.p2.16xlarge',\n",
       "   'ml.p3.2xlarge',\n",
       "   'ml.p3.8xlarge',\n",
       "   'ml.p3.16xlarge'],\n",
       "  'SupportedContentTypes': ['text/csv'],\n",
       "  'SupportedResponseMIMETypes': ['text/csv']},\n",
       " 'ModelPackageStatus': 'Completed',\n",
       " 'ModelPackageStatusDetails': {'ValidationStatuses': [],\n",
       "  'ImageScanStatuses': []},\n",
       " 'CertifyForMarketplace': False,\n",
       " 'ModelApprovalStatus': 'PendingManualApproval',\n",
       " 'CreatedBy': {'UserProfileArn': 'arn:aws:sagemaker:us-east-1:892313895307:user-profile/d-dowart1jabkf/ts-zd-e2e',\n",
       "  'UserProfileName': 'ts-zd-e2e',\n",
       "  'DomainId': 'd-dowart1jabkf'},\n",
       " 'MetadataProperties': {'GeneratedBy': 'BERT-Pipeline'},\n",
       " 'ModelMetrics': {'ModelQuality': {'Statistics': {'ContentType': 'application/json',\n",
       "    'S3Uri': 's3://sagemaker-us-east-1-892313895307/metrics/08-08-04-14/metrics.json'}}},\n",
       " 'ResponseMetadata': {'RequestId': '3b6046ab-a531-48ab-b588-8cd1199f2af0',\n",
       "  'HTTPStatusCode': 200,\n",
       "  'HTTPHeaders': {'x-amzn-requestid': '3b6046ab-a531-48ab-b588-8cd1199f2af0',\n",
       "   'content-type': 'application/x-amz-json-1.1',\n",
       "   'content-length': '2166',\n",
       "   'date': 'Sun, 08 Aug 2021 04:14:25 GMT'},\n",
       "  'RetryAttempts': 0}}"
      ]
     },
     "execution_count": 51,
     "metadata": {},
     "output_type": "execute_result"
    }
   ],
   "source": [
    "arn = model_package_info['ModelPackageArn']\n",
    "sagemaker_client.describe_model_package(ModelPackageName=arn)"
   ]
  },
  {
   "cell_type": "markdown",
   "metadata": {},
   "source": [
    "### Update status of a Model Package "
   ]
  },
  {
   "cell_type": "code",
   "execution_count": 52,
   "metadata": {},
   "outputs": [],
   "source": [
    "model_package_arn = 'arn:aws:sagemaker:us-east-1:892313895307:model-package/bert-email-classifier/1'"
   ]
  },
  {
   "cell_type": "code",
   "execution_count": 53,
   "metadata": {},
   "outputs": [
    {
     "data": {
      "text/plain": [
       "{'ModelPackageArn': 'arn:aws:sagemaker:us-east-1:892313895307:model-package/bert-email-classifier/1',\n",
       " 'ResponseMetadata': {'RequestId': '3ebd6cd3-f0ad-456d-877a-ffce545b67ef',\n",
       "  'HTTPStatusCode': 200,\n",
       "  'HTTPHeaders': {'x-amzn-requestid': '3ebd6cd3-f0ad-456d-877a-ffce545b67ef',\n",
       "   'content-type': 'application/x-amz-json-1.1',\n",
       "   'content-length': '100',\n",
       "   'date': 'Sun, 08 Aug 2021 04:14:28 GMT'},\n",
       "  'RetryAttempts': 0}}"
      ]
     },
     "execution_count": 53,
     "metadata": {},
     "output_type": "execute_result"
    }
   ],
   "source": [
    "model_package_update_input_dict = {\"ModelPackageArn\" : model_package_arn, \n",
    "                                   \"ModelApprovalStatus\" : \"Approved\"}\n",
    "model_package_update_response = sagemaker_client.update_model_package(**model_package_update_input_dict)\n",
    "model_package_update_response"
   ]
  },
  {
   "cell_type": "markdown",
   "metadata": {},
   "source": [
    "### Delete all Model Packages in a Model Package Group"
   ]
  },
  {
   "cell_type": "markdown",
   "metadata": {},
   "source": [
    "List all standalone model packages (ones that are not affiliated to any Model Package Group)."
   ]
  },
  {
   "cell_type": "code",
   "execution_count": null,
   "metadata": {},
   "outputs": [],
   "source": [
    "response = sagemaker_client.list_model_packages()\n",
    "response"
   ]
  },
  {
   "cell_type": "markdown",
   "metadata": {},
   "source": [
    "Delete all standalone model packages "
   ]
  },
  {
   "cell_type": "code",
   "execution_count": null,
   "metadata": {},
   "outputs": [],
   "source": [
    "for model_package in response['ModelPackageSummaryList']:\n",
    "    logger.info(f'Model Pacakge: {model_package}')\n",
    "    # package_name = model_package['ModelPackageName']\n",
    "    package_arn = model_package['ModelPackageArn']\n",
    "    response = sagemaker_client.delete_model_package(ModelPackageName=package_arn)\n",
    "    logger.info(f'Response: {response}')"
   ]
  },
  {
   "cell_type": "markdown",
   "metadata": {},
   "source": [
    "List model packages that are affiliated to our Model Package Group"
   ]
  },
  {
   "cell_type": "code",
   "execution_count": null,
   "metadata": {},
   "outputs": [],
   "source": [
    "response = sagemaker_client.list_model_packages(ModelPackageGroupName=model_package_group_name)\n",
    "response"
   ]
  },
  {
   "cell_type": "code",
   "execution_count": null,
   "metadata": {},
   "outputs": [],
   "source": [
    "for model_package in response['ModelPackageSummaryList']:\n",
    "    logger.info(f'Model Package: {model_package}')\n",
    "    # package_name = model_package['ModelPackageName']\n",
    "    package_arn = model_package['ModelPackageArn']\n",
    "    response = sagemaker_client.delete_model_package(ModelPackageName=package_arn)\n",
    "    logger.info(f'Response: {response}')"
   ]
  },
  {
   "cell_type": "markdown",
   "metadata": {},
   "source": [
    "### Delete a Model Package Group if needed\n",
    "\n",
    "**Note:** We need to delete all Model Packages inside the Model Package Group first to delete the package group."
   ]
  },
  {
   "cell_type": "code",
   "execution_count": null,
   "metadata": {},
   "outputs": [],
   "source": [
    "sagemaker_client.delete_model_package_group(ModelPackageGroupName=model_package_group_name)"
   ]
  },
  {
   "cell_type": "markdown",
   "metadata": {},
   "source": [
    "### Recreate the BERT model from model registry and use it to create a real-time inference endpoint"
   ]
  },
  {
   "cell_type": "markdown",
   "metadata": {},
   "source": [
    "### How do I create an endpoint using model artifacts in S3 "
   ]
  }
 ],
 "metadata": {
  "instance_type": "ml.t3.medium",
  "kernelspec": {
   "display_name": "Python 3 (Data Science)",
   "language": "python",
   "name": "python3__SAGEMAKER_INTERNAL__arn:aws:sagemaker:us-east-1:081325390199:image/datascience-1.0"
  },
  "language_info": {
   "codemirror_mode": {
    "name": "ipython",
    "version": 3
   },
   "file_extension": ".py",
   "mimetype": "text/x-python",
   "name": "python",
   "nbconvert_exporter": "python",
   "pygments_lexer": "ipython3",
   "version": "3.7.10"
  }
 },
 "nbformat": 4,
 "nbformat_minor": 4
}
